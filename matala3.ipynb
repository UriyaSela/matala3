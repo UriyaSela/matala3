{
 "cells": [
  {
   "cell_type": "markdown",
   "id": "049b5273-fda8-4934-9d09-ac4203a34f01",
   "metadata": {},
   "source": [
    "## Uriya Sela"
   ]
  },
  {
   "cell_type": "code",
   "execution_count": 8,
   "id": "20602e84-63d5-4ec7-a193-accb49a447d9",
   "metadata": {},
   "outputs": [],
   "source": [
    "import pandas as pd\n",
    "import json\n",
    "import requests"
   ]
  },
  {
   "cell_type": "code",
   "execution_count": 9,
   "id": "8a00290b-a9d3-485d-a3ed-c45519ceecd3",
   "metadata": {},
   "outputs": [
    {
     "name": "stdout",
     "output_type": "stream",
     "text": [
      "['Istanbul', 'Amsterdam', 'Valletta', 'Basel', 'Doha']\n"
     ]
    }
   ],
   "source": [
    "# Open the file in read mode\n",
    "with open('dests.txt', 'r') as file:\n",
    "    file_contents = file.read()\n",
    "    \n",
    "# Split the string into a list of substrings\n",
    "lst = file_contents.split('\\n')\n",
    "\n",
    "# Remove any empty strings from the list\n",
    "lst = [item for item in lst if item]\n",
    "\n",
    "# Print the resulting list\n",
    "print(lst)"
   ]
  },
  {
   "cell_type": "code",
   "execution_count": 10,
   "id": "148d5331-be28-4e9d-ab93-64f4e84bbaba",
   "metadata": {},
   "outputs": [],
   "source": [
    "def get_distance(origin, destination):\n",
    "    # Distance matrix API request\n",
    "    api_key = \n",
    "    url = \"https://maps.googleapis.com/maps/api/distancematrix/json?units=metric&origins={}&destinations={}&key={}\".format(origin, destination, api_key)\n",
    "    response = requests.get(url)\n",
    "    data = response.json()\n",
    "    \n",
    "    # Geocoding API request\n",
    "    geocode_url = \"https://maps.googleapis.com/maps/api/geocode/json?address={}&key={}\".format(destination, api_key)\n",
    "    geocode_response = requests.get(geocode_url)\n",
    "    geocode_data = geocode_response.json()\n",
    "    \n",
    "    if data['status'] == 'OK' and geocode_data['status'] == 'OK':\n",
    "        # Extract latitude and longitude from geocoding data\n",
    "        lat = geocode_data['results'][0]['geometry']['location']['lat']\n",
    "        lng = geocode_data['results'][0]['geometry']['location']['lng']\n",
    "        \n",
    "        # Extract distance and duration from distance matrix data\n",
    "        distance = data['rows'][0]['elements'][0]['distance']['value'] / 1000  # Distance in kilometers\n",
    "        duration = data['rows'][0]['elements'][0]['duration']['value'] / 60  # Duration in minutes\n",
    "        \n",
    "        # Return a tuple with all the data\n",
    "        return distance, duration, lng, lat\n",
    "    else:\n",
    "        print(\"Error getting data for {}: distance={}, duration={}, geocode_status={}, distance_status={}\".format(destination, None, None, geocode_data['status'], data['status']))\n",
    "        return None, None, None, None\n"
   ]
  },
  {
   "cell_type": "code",
   "execution_count": 11,
   "id": "a6b17753-7deb-4bcb-a305-89e06097a748",
   "metadata": {},
   "outputs": [
    {
     "name": "stdout",
     "output_type": "stream",
     "text": [
      "The distance from Tel Aviv to Istanbul is 1815.227 km and the duration is 1262.8666666666666 minutes.\n",
      "The longitude is 28.9783589 and the latitude is 41.0082376\n",
      "The distance from Tel Aviv to Amsterdam is 4532.619 km and the duration is 2885.3333333333335 minutes.\n",
      "The longitude is 4.9041389 and the latitude is 52.3675734\n",
      "The distance from Tel Aviv to Valletta is 3792.877 km and the duration is 3051.25 minutes.\n",
      "The longitude is 14.5140996 and the latitude is 35.8992375\n",
      "The distance from Tel Aviv to Basel is 4092.812 km and the duration is 2642.383333333333 minutes.\n",
      "The longitude is 7.5885761 and the latitude is 47.5595986\n",
      "The distance from Tel Aviv to Doha is 2164.477 km and the duration is 1358.7833333333333 minutes.\n",
      "The longitude is 51.53103979999999 and the latitude is 25.2854473\n"
     ]
    }
   ],
   "source": [
    "for dest in lst:\n",
    "    distance, duration, lng, lat = get_distance(\"Tel aviv\",dest)\n",
    "    print('The distance from Tel Aviv to', dest, 'is', distance, 'km and the duration is', duration, 'minutes.\\nThe longitude is', lng, 'and the latitude is', lat)\n"
   ]
  },
  {
   "cell_type": "code",
   "execution_count": 12,
   "id": "9f29dcaf-2995-4219-833e-9df5437eb3e9",
   "metadata": {},
   "outputs": [
    {
     "name": "stdout",
     "output_type": "stream",
     "text": [
      "      Target  Distance_km  Duration (minutes)  Longitude   Latitude\n",
      "0   Istanbul     1815.227         1262.866667  28.978359  41.008238\n",
      "1  Amsterdam     4532.619         2885.333333   4.904139  52.367573\n",
      "2   Valletta     3792.877         3051.250000  14.514100  35.899237\n",
      "3      Basel     4092.812         2642.383333   7.588576  47.559599\n",
      "4       Doha     2164.477         1358.783333  51.531040  25.285447\n"
     ]
    }
   ],
   "source": [
    "data = []\n",
    "for dest in lst:\n",
    "    distance, duration, lng, lat = get_distance(\"Tel Aviv\", dest)\n",
    "    # Append the data to the list\n",
    "    data.append([dest, distance, duration, lng, lat])\n",
    "\n",
    "# Convert the list to a pandas DataFrame\n",
    "df = pd.DataFrame(data, columns=[\"Target\", \"Distance_km\", \"Duration (minutes)\", \"Longitude\", \"Latitude\"])\n",
    "print(df)\n"
   ]
  },
  {
   "cell_type": "code",
   "execution_count": 13,
   "id": "5ced15fe-3465-4b08-9c07-1c616e227495",
   "metadata": {},
   "outputs": [
    {
     "name": "stdout",
     "output_type": "stream",
     "text": [
      "The 3 cities furthest from Tel Aviv are:\n",
      "      Target  Distance_km\n",
      "1  Amsterdam     4532.619\n",
      "3      Basel     4092.812\n",
      "2   Valletta     3792.877\n"
     ]
    }
   ],
   "source": [
    "# sort the dataframe by the Distance_km column in descending order\n",
    "sorted_df = df.sort_values(by='Distance_km', ascending=False)\n",
    "furthest_cities = sorted_df.head(3)\n",
    "\n",
    "print(\"The 3 cities furthest from Tel Aviv are:\")\n",
    "print(furthest_cities[['Target', 'Distance_km']])\n"
   ]
  },
  {
   "cell_type": "code",
   "execution_count": null,
   "id": "ee5f644d-05f7-46af-8b8c-444a9f3076eb",
   "metadata": {},
   "outputs": [],
   "source": []
  }
 ],
 "metadata": {
  "kernelspec": {
   "display_name": "Python 3 (ipykernel)",
   "language": "python",
   "name": "python3"
  },
  "language_info": {
   "codemirror_mode": {
    "name": "ipython",
    "version": 3
   },
   "file_extension": ".py",
   "mimetype": "text/x-python",
   "name": "python",
   "nbconvert_exporter": "python",
   "pygments_lexer": "ipython3",
   "version": "3.9.2"
  }
 },
 "nbformat": 4,
 "nbformat_minor": 5
}
